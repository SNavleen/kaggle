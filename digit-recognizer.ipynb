{
 "cells": [
  {
   "cell_type": "code",
   "execution_count": 1,
   "id": "64548cb3",
   "metadata": {
    "execution": {
     "iopub.execute_input": "2022-08-14T13:17:34.043609Z",
     "iopub.status.busy": "2022-08-14T13:17:34.042784Z",
     "iopub.status.idle": "2022-08-14T13:17:37.156539Z",
     "shell.execute_reply": "2022-08-14T13:17:37.155265Z"
    },
    "papermill": {
     "duration": 3.12373,
     "end_time": "2022-08-14T13:17:37.159208",
     "exception": false,
     "start_time": "2022-08-14T13:17:34.035478",
     "status": "completed"
    },
    "tags": []
   },
   "outputs": [],
   "source": [
    "!rm -rf ./output\n",
    "!mkdir ./output\n",
    "!mkdir ./output/finalmodel"
   ]
  },
  {
   "cell_type": "code",
   "execution_count": 2,
   "id": "e49a71e1",
   "metadata": {
    "_cell_guid": "b1076dfc-b9ad-4769-8c92-a6c4dae69d19",
    "_uuid": "8f2839f25d086af736a60e9eeb907d3b93b6e0e5",
    "execution": {
     "iopub.execute_input": "2022-08-14T13:17:37.169277Z",
     "iopub.status.busy": "2022-08-14T13:17:37.168954Z",
     "iopub.status.idle": "2022-08-14T13:17:45.611335Z",
     "shell.execute_reply": "2022-08-14T13:17:45.610347Z"
    },
    "papermill": {
     "duration": 8.450353,
     "end_time": "2022-08-14T13:17:45.614036",
     "exception": false,
     "start_time": "2022-08-14T13:17:37.163683",
     "status": "completed"
    },
    "tags": []
   },
   "outputs": [],
   "source": [
    "import numpy as np\n",
    "import pandas as pd\n",
    "import datasets\n",
    "from datasets import load_metric\n",
    "\n",
    "from matplotlib import pyplot as plt\n",
    "from transformers import AutoFeatureExtractor, ResNetForImageClassification\n",
    "from transformers import TrainingArguments, Trainer\n",
    "from sklearn.model_selection import train_test_split\n",
    "\n",
    "import random\n",
    "import os\n",
    "import torch\n",
    "\n",
    "# for dirname, _, filenames in os.walk('/kaggle/input'):\n",
    "#     for filename in filenames:\n",
    "#         print(os.path.join(dirname, filename))"
   ]
  },
  {
   "cell_type": "code",
   "execution_count": 3,
   "id": "248cf3d3",
   "metadata": {
    "execution": {
     "iopub.execute_input": "2022-08-14T13:17:45.624752Z",
     "iopub.status.busy": "2022-08-14T13:17:45.624183Z",
     "iopub.status.idle": "2022-08-14T13:17:46.446133Z",
     "shell.execute_reply": "2022-08-14T13:17:46.445143Z"
    },
    "papermill": {
     "duration": 0.829283,
     "end_time": "2022-08-14T13:17:46.448329",
     "exception": false,
     "start_time": "2022-08-14T13:17:45.619046",
     "status": "completed"
    },
    "tags": []
   },
   "outputs": [
    {
     "data": {
      "application/vnd.jupyter.widget-view+json": {
       "model_id": "dee67418582045debe8e430fdb97fc6f",
       "version_major": 2,
       "version_minor": 0
      },
      "text/plain": [
       "Downloading builder script:   0%|          | 0.00/1.41k [00:00<?, ?B/s]"
      ]
     },
     "metadata": {},
     "output_type": "display_data"
    }
   ],
   "source": [
    "input_dir='../input/digit-recognizer'\n",
    "output_dir='./output'\n",
    "model_id='microsoft/resnet-50'\n",
    "img_size=28\n",
    "metric=load_metric(\"accuracy\")"
   ]
  },
  {
   "cell_type": "code",
   "execution_count": 4,
   "id": "80c0c180",
   "metadata": {
    "execution": {
     "iopub.execute_input": "2022-08-14T13:17:46.459273Z",
     "iopub.status.busy": "2022-08-14T13:17:46.458336Z",
     "iopub.status.idle": "2022-08-14T13:17:46.467492Z",
     "shell.execute_reply": "2022-08-14T13:17:46.466652Z"
    },
    "papermill": {
     "duration": 0.016325,
     "end_time": "2022-08-14T13:17:46.469469",
     "exception": false,
     "start_time": "2022-08-14T13:17:46.453144",
     "status": "completed"
    },
    "tags": []
   },
   "outputs": [],
   "source": [
    "def display_img(img_arr):\n",
    "    plt.imshow(img_arr, interpolation='nearest')\n",
    "    plt.show()\n",
    "\n",
    "def img1d_to_img2d (imgs1d, imgX=28, imgY=28):\n",
    "    img2d = []\n",
    "    for img1d in imgs1d:\n",
    "        img_reshape = np.reshape(img1d, (imgX, imgY))\n",
    "        img2d.append(np.array([img_reshape, img_reshape, img_reshape]).transpose((1,2,0)))\n",
    "    return np.array(img2d)\n",
    "\n",
    "def img_pad (img, padding):\n",
    "    return np.pad(img, padding, 'constant')\n",
    "\n",
    "def gen_encoding(batch):\n",
    "    inputs = feature_extractor([np.array(x) for x in batch['image']], return_tensors='pt')\n",
    "    inputs['label'] = batch['label']\n",
    "    return inputs\n",
    "\n",
    "def collate_fn(batch):\n",
    "    return {\n",
    "        'pixel_values': torch.stack([x['pixel_values'] for x in batch]),\n",
    "        'labels': torch.tensor([x['label'] for x in batch])\n",
    "    }\n",
    "\n",
    "def compute_metrics(p):\n",
    "    return metric.compute(predictions=np.argmax(p.predictions, axis=1), references=p.label_ids)"
   ]
  },
  {
   "cell_type": "code",
   "execution_count": 5,
   "id": "a6a8595e",
   "metadata": {
    "execution": {
     "iopub.execute_input": "2022-08-14T13:17:46.479689Z",
     "iopub.status.busy": "2022-08-14T13:17:46.479373Z",
     "iopub.status.idle": "2022-08-14T13:17:49.498321Z",
     "shell.execute_reply": "2022-08-14T13:17:49.497160Z"
    },
    "papermill": {
     "duration": 3.027301,
     "end_time": "2022-08-14T13:17:49.501230",
     "exception": false,
     "start_time": "2022-08-14T13:17:46.473929",
     "status": "completed"
    },
    "tags": []
   },
   "outputs": [
    {
     "name": "stdout",
     "output_type": "stream",
     "text": [
      "(33600, 785)\n",
      "(4200, 785)\n",
      "(4200, 785)\n"
     ]
    }
   ],
   "source": [
    "df = pd.read_csv(input_dir+'/train.csv')\n",
    "\n",
    "train, test = train_test_split(df, train_size=0.8)\n",
    "test, val = train_test_split(test, train_size=0.5)\n",
    "\n",
    "print(train.shape)\n",
    "print(test.shape)\n",
    "print(val.shape)"
   ]
  },
  {
   "cell_type": "code",
   "execution_count": 6,
   "id": "8cfd3274",
   "metadata": {
    "execution": {
     "iopub.execute_input": "2022-08-14T13:17:49.512340Z",
     "iopub.status.busy": "2022-08-14T13:17:49.510663Z",
     "iopub.status.idle": "2022-08-14T13:17:50.599423Z",
     "shell.execute_reply": "2022-08-14T13:17:50.598384Z"
    },
    "papermill": {
     "duration": 1.096518,
     "end_time": "2022-08-14T13:17:50.602236",
     "exception": false,
     "start_time": "2022-08-14T13:17:49.505718",
     "status": "completed"
    },
    "tags": []
   },
   "outputs": [
    {
     "name": "stdout",
     "output_type": "stream",
     "text": [
      "(33600,)\n",
      "(33600, 28, 28, 3)\n",
      "(4200,)\n",
      "(4200, 28, 28, 3)\n",
      "(4200,)\n",
      "(4200, 28, 28, 3)\n"
     ]
    }
   ],
   "source": [
    "train_Y = train.to_numpy()[:, 0]\n",
    "train_X = img1d_to_img2d(train.to_numpy()[:, 1:])\n",
    "\n",
    "test_Y = test.to_numpy()[:, 0]\n",
    "test_X = img1d_to_img2d(test.to_numpy()[:, 1:])\n",
    "\n",
    "val_Y = val.to_numpy()[:, 0]\n",
    "val_X = img1d_to_img2d(val.to_numpy()[:, 1:])\n",
    "\n",
    "\n",
    "print(train_Y.shape)\n",
    "print(train_X.shape)\n",
    "print(test_Y.shape)\n",
    "print(test_X.shape)\n",
    "print(val_Y.shape)\n",
    "print(val_X.shape)"
   ]
  },
  {
   "cell_type": "code",
   "execution_count": 7,
   "id": "80a9a213",
   "metadata": {
    "execution": {
     "iopub.execute_input": "2022-08-14T13:17:50.613686Z",
     "iopub.status.busy": "2022-08-14T13:17:50.612719Z",
     "iopub.status.idle": "2022-08-14T13:17:52.289762Z",
     "shell.execute_reply": "2022-08-14T13:17:52.288632Z"
    },
    "papermill": {
     "duration": 1.684962,
     "end_time": "2022-08-14T13:17:52.292496",
     "exception": false,
     "start_time": "2022-08-14T13:17:50.607534",
     "status": "completed"
    },
    "tags": []
   },
   "outputs": [],
   "source": [
    "train_ds = datasets.Dataset.from_dict({'image': train_X, 'label': train_Y})\n",
    "pt_train = train_ds.with_transform(gen_encoding)\n",
    "\n",
    "test_ds = datasets.Dataset.from_dict({'image': test_X, 'label': test_Y})\n",
    "pt_test = test_ds.with_transform(gen_encoding)\n",
    "\n",
    "val_ds = datasets.Dataset.from_dict({'image': val_X, 'label': val_Y})\n",
    "pt_val = val_ds.with_transform(gen_encoding)"
   ]
  },
  {
   "cell_type": "code",
   "execution_count": 8,
   "id": "53ac90d5",
   "metadata": {
    "execution": {
     "iopub.execute_input": "2022-08-14T13:17:52.304120Z",
     "iopub.status.busy": "2022-08-14T13:17:52.303768Z",
     "iopub.status.idle": "2022-08-14T13:17:52.313776Z",
     "shell.execute_reply": "2022-08-14T13:17:52.312644Z"
    },
    "papermill": {
     "duration": 0.018751,
     "end_time": "2022-08-14T13:17:52.316451",
     "exception": false,
     "start_time": "2022-08-14T13:17:52.297700",
     "status": "completed"
    },
    "tags": []
   },
   "outputs": [
    {
     "data": {
      "text/plain": [
       "array([0, 1, 2, 3, 4, 5, 6, 7, 8, 9])"
      ]
     },
     "execution_count": 8,
     "metadata": {},
     "output_type": "execute_result"
    }
   ],
   "source": [
    "labels = np.unique(train_Y)\n",
    "labels"
   ]
  },
  {
   "cell_type": "code",
   "execution_count": 9,
   "id": "5089e063",
   "metadata": {
    "execution": {
     "iopub.execute_input": "2022-08-14T13:17:52.327498Z",
     "iopub.status.busy": "2022-08-14T13:17:52.327184Z",
     "iopub.status.idle": "2022-08-14T13:17:52.551806Z",
     "shell.execute_reply": "2022-08-14T13:17:52.550666Z"
    },
    "papermill": {
     "duration": 0.232966,
     "end_time": "2022-08-14T13:17:52.554258",
     "exception": false,
     "start_time": "2022-08-14T13:17:52.321292",
     "status": "completed"
    },
    "tags": []
   },
   "outputs": [
    {
     "data": {
      "image/png": "[encoded data removed]",
      "text/plain": [
       "<Figure size 432x288 with 1 Axes>"
      ]
     },
     "metadata": {
      "needs_background": "light"
     },
     "output_type": "display_data"
    }
   ],
   "source": [
    "display_img(train_X[0])"
   ]
  },
  {
   "cell_type": "code",
   "execution_count": 10,
   "id": "0e8e93fa",
   "metadata": {
    "execution": {
     "iopub.execute_input": "2022-08-14T13:17:52.572782Z",
     "iopub.status.busy": "2022-08-14T13:17:52.572423Z",
     "iopub.status.idle": "2022-08-14T13:17:53.294501Z",
     "shell.execute_reply": "2022-08-14T13:17:53.293445Z"
    },
    "papermill": {
     "duration": 0.732316,
     "end_time": "2022-08-14T13:17:53.298652",
     "exception": false,
     "start_time": "2022-08-14T13:17:52.566336",
     "status": "completed"
    },
    "tags": []
   },
   "outputs": [
    {
     "data": {
      "application/vnd.jupyter.widget-view+json": {
       "model_id": "a121a7e5c0de4c009b2cf398de35c63d",
       "version_major": 2,
       "version_minor": 0
      },
      "text/plain": [
       "Downloading:   0%|          | 0.00/266 [00:00<?, ?B/s]"
      ]
     },
     "metadata": {},
     "output_type": "display_data"
    }
   ],
   "source": [
    "feature_extractor = AutoFeatureExtractor.from_pretrained(model_id, size=img_size)"
   ]
  },
  {
   "cell_type": "code",
   "execution_count": 11,
   "id": "5fb03e6c",
   "metadata": {
    "execution": {
     "iopub.execute_input": "2022-08-14T13:17:53.312339Z",
     "iopub.status.busy": "2022-08-14T13:17:53.310330Z",
     "iopub.status.idle": "2022-08-14T13:18:00.083740Z",
     "shell.execute_reply": "2022-08-14T13:18:00.082441Z"
    },
    "papermill": {
     "duration": 6.782273,
     "end_time": "2022-08-14T13:18:00.086476",
     "exception": false,
     "start_time": "2022-08-14T13:17:53.304203",
     "status": "completed"
    },
    "tags": []
   },
   "outputs": [
    {
     "data": {
      "application/vnd.jupyter.widget-view+json": {
       "model_id": "e8c7565ada0048fe90a80ffcfaae4ac0",
       "version_major": 2,
       "version_minor": 0
      },
      "text/plain": [
       "Downloading:   0%|          | 0.00/67.9k [00:00<?, ?B/s]"
      ]
     },
     "metadata": {},
     "output_type": "display_data"
    },
    {
     "data": {
      "application/vnd.jupyter.widget-view+json": {
       "model_id": "2fa023b198334745b5b21b2ab3c5d8fb",
       "version_major": 2,
       "version_minor": 0
      },
      "text/plain": [
       "Downloading:   0%|          | 0.00/97.8M [00:00<?, ?B/s]"
      ]
     },
     "metadata": {},
     "output_type": "display_data"
    },
    {
     "name": "stderr",
     "output_type": "stream",
     "text": [
      "Some weights of ResNetForImageClassification were not initialized from the model checkpoint at microsoft/resnet-50 and are newly initialized because the shapes did not match:\n",
      "- classifier.1.weight: found shape torch.Size([1000, 2048]) in the checkpoint and torch.Size([10, 2048]) in the model instantiated\n",
      "- classifier.1.bias: found shape torch.Size([1000]) in the checkpoint and torch.Size([10]) in the model instantiated\n",
      "You should probably TRAIN this model on a down-stream task to be able to use it for predictions and inference.\n"
     ]
    }
   ],
   "source": [
    "model = ResNetForImageClassification.from_pretrained(model_id,\n",
    "                                                     num_labels=len(labels),\n",
    "                                                     ignore_mismatched_sizes=True)"
   ]
  },
  {
   "cell_type": "code",
   "execution_count": 12,
   "id": "c6263291",
   "metadata": {
    "execution": {
     "iopub.execute_input": "2022-08-14T13:18:00.098006Z",
     "iopub.status.busy": "2022-08-14T13:18:00.097721Z",
     "iopub.status.idle": "2022-08-14T13:18:00.168297Z",
     "shell.execute_reply": "2022-08-14T13:18:00.167405Z"
    },
    "papermill": {
     "duration": 0.078546,
     "end_time": "2022-08-14T13:18:00.170447",
     "exception": false,
     "start_time": "2022-08-14T13:18:00.091901",
     "status": "completed"
    },
    "tags": []
   },
   "outputs": [],
   "source": [
    "training_args = TrainingArguments(\n",
    "  output_dir=output_dir,\n",
    "  evaluation_strategy=\"steps\",\n",
    "  per_device_train_batch_size=64,\n",
    "  save_steps=100,\n",
    "  eval_steps=100,\n",
    "  logging_steps=10,\n",
    "  learning_rate=2e-4,\n",
    "  save_total_limit=2,\n",
    "  remove_unused_columns=False,\n",
    "  push_to_hub=False,\n",
    "  report_to='tensorboard',\n",
    "  load_best_model_at_end=True,\n",
    ")"
   ]
  },
  {
   "cell_type": "code",
   "execution_count": 13,
   "id": "1e11fc4a",
   "metadata": {
    "execution": {
     "iopub.execute_input": "2022-08-14T13:18:00.182066Z",
     "iopub.status.busy": "2022-08-14T13:18:00.181251Z",
     "iopub.status.idle": "2022-08-14T13:18:05.109973Z",
     "shell.execute_reply": "2022-08-14T13:18:05.108940Z"
    },
    "papermill": {
     "duration": 4.936883,
     "end_time": "2022-08-14T13:18:05.112536",
     "exception": false,
     "start_time": "2022-08-14T13:18:00.175653",
     "status": "completed"
    },
    "tags": []
   },
   "outputs": [],
   "source": [
    "trainer = Trainer(\n",
    "    model=model,\n",
    "    args=training_args,\n",
    "#     data_collator=collate_fn,\n",
    "    compute_metrics=compute_metrics,\n",
    "    train_dataset=pt_train,\n",
    "    eval_dataset=pt_test\n",
    ")"
   ]
  },
  {
   "cell_type": "code",
   "execution_count": 14,
   "id": "8a3c4d26",
   "metadata": {
    "execution": {
     "iopub.execute_input": "2022-08-14T13:18:05.126767Z",
     "iopub.status.busy": "2022-08-14T13:18:05.124965Z",
     "iopub.status.idle": "2022-08-14T13:29:53.770965Z",
     "shell.execute_reply": "2022-08-14T13:29:53.769536Z"
    },
    "papermill": {
     "duration": 708.655273,
     "end_time": "2022-08-14T13:29:53.773099",
     "exception": false,
     "start_time": "2022-08-14T13:18:05.117826",
     "status": "completed"
    },
    "scrolled": true,
    "tags": []
   },
   "outputs": [
    {
     "name": "stderr",
     "output_type": "stream",
     "text": [
      "/opt/conda/lib/python3.7/site-packages/transformers/optimization.py:310: FutureWarning: This implementation of AdamW is deprecated and will be removed in a future version. Use the PyTorch implementation torch.optim.AdamW instead, or set `no_deprecation_warning=True` to disable this warning\n",
      "  FutureWarning,\n",
      "***** Running training *****\n",
      "  Num examples = 33600\n",
      "  Num Epochs = 3\n",
      "  Instantaneous batch size per device = 64\n",
      "  Total train batch size (w. parallel, distributed & accumulation) = 64\n",
      "  Gradient Accumulation steps = 1\n",
      "  Total optimization steps = 1575\n"
     ]
    },
    {
     "data": {
      "text/html": [
       "\n",
       "    <div>\n",
       "      \n",
       "      <progress value='1575' max='1575' style='width:300px; height:20px; vertical-align: middle;'></progress>\n",
       "      [1575/1575 11:41, Epoch 3/3]\n",
       "    </div>\n",
       "    <table border=\"1\" class=\"dataframe\">\n",
       "  <thead>\n",
       " <tr style=\"text-align: left;\">\n",
       "      <th>Step</th>\n",
       "      <th>Training Loss</th>\n",
       "      <th>Validation Loss</th>\n",
       "      <th>Accuracy</th>\n",
       "    </tr>\n",
       "  </thead>\n",
       "  <tbody>\n",
       "    <tr>\n",
       "      <td>100</td>\n",
       "      <td>1.890300</td>\n",
       "      <td>1.877047</td>\n",
       "      <td>0.429286</td>\n",
       "    </tr>\n",
       "    <tr>\n",
       "      <td>200</td>\n",
       "      <td>1.360300</td>\n",
       "      <td>1.289231</td>\n",
       "      <td>0.639524</td>\n",
       "    </tr>\n",
       "    <tr>\n",
       "      <td>300</td>\n",
       "      <td>0.900200</td>\n",
       "      <td>0.804012</td>\n",
       "      <td>0.777857</td>\n",
       "    </tr>\n",
       "    <tr>\n",
       "      <td>400</td>\n",
       "      <td>0.570900</td>\n",
       "      <td>0.514002</td>\n",
       "      <td>0.860952</td>\n",
       "    </tr>\n",
       "    <tr>\n",
       "      <td>500</td>\n",
       "      <td>0.438400</td>\n",
       "      <td>0.316008</td>\n",
       "      <td>0.916190</td>\n",
       "    </tr>\n",
       "    <tr>\n",
       "      <td>600</td>\n",
       "      <td>0.301100</td>\n",
       "      <td>0.225666</td>\n",
       "      <td>0.936667</td>\n",
       "    </tr>\n",
       "    <tr>\n",
       "      <td>700</td>\n",
       "      <td>0.276600</td>\n",
       "      <td>0.175840</td>\n",
       "      <td>0.949762</td>\n",
       "    </tr>\n",
       "    <tr>\n",
       "      <td>800</td>\n",
       "      <td>0.250200</td>\n",
       "      <td>0.142528</td>\n",
       "      <td>0.957857</td>\n",
       "    </tr>\n",
       "    <tr>\n",
       "      <td>900</td>\n",
       "      <td>0.203700</td>\n",
       "      <td>0.123754</td>\n",
       "      <td>0.961667</td>\n",
       "    </tr>\n",
       "    <tr>\n",
       "      <td>1000</td>\n",
       "      <td>0.257200</td>\n",
       "      <td>0.113040</td>\n",
       "      <td>0.969524</td>\n",
       "    </tr>\n",
       "    <tr>\n",
       "      <td>1100</td>\n",
       "      <td>0.132000</td>\n",
       "      <td>0.098838</td>\n",
       "      <td>0.974048</td>\n",
       "    </tr>\n",
       "    <tr>\n",
       "      <td>1200</td>\n",
       "      <td>0.150000</td>\n",
       "      <td>0.092879</td>\n",
       "      <td>0.976190</td>\n",
       "    </tr>\n",
       "    <tr>\n",
       "      <td>1300</td>\n",
       "      <td>0.128500</td>\n",
       "      <td>0.093080</td>\n",
       "      <td>0.973095</td>\n",
       "    </tr>\n",
       "    <tr>\n",
       "      <td>1400</td>\n",
       "      <td>0.191000</td>\n",
       "      <td>0.090630</td>\n",
       "      <td>0.975952</td>\n",
       "    </tr>\n",
       "    <tr>\n",
       "      <td>1500</td>\n",
       "      <td>0.133500</td>\n",
       "      <td>0.086507</td>\n",
       "      <td>0.975000</td>\n",
       "    </tr>\n",
       "  </tbody>\n",
       "</table><p>"
      ],
      "text/plain": [
       "<IPython.core.display.HTML object>"
      ]
     },
     "metadata": {},
     "output_type": "display_data"
    },
    {
     "name": "stderr",
     "output_type": "stream",
     "text": [
      "***** Running Evaluation *****\n",
      "  Num examples = 4200\n",
      "  Batch size = 8\n",
      "Saving model checkpoint to ./output/checkpoint-100\n",
      "Configuration saved in ./output/checkpoint-100/config.json\n",
      "Model weights saved in ./output/checkpoint-100/pytorch_model.bin\n",
      "***** Running Evaluation *****\n",
      "  Num examples = 4200\n",
      "  Batch size = 8\n",
      "Saving model checkpoint to ./output/checkpoint-200\n",
      "Configuration saved in ./output/checkpoint-200/config.json\n",
      "Model weights saved in ./output/checkpoint-200/pytorch_model.bin\n",
      "***** Running Evaluation *****\n",
      "  Num examples = 4200\n",
      "  Batch size = 8\n",
      "Saving model checkpoint to ./output/checkpoint-300\n",
      "Configuration saved in ./output/checkpoint-300/config.json\n",
      "Model weights saved in ./output/checkpoint-300/pytorch_model.bin\n",
      "Deleting older checkpoint [output/checkpoint-100] due to args.save_total_limit\n",
      "***** Running Evaluation *****\n",
      "  Num examples = 4200\n",
      "  Batch size = 8\n",
      "Saving model checkpoint to ./output/checkpoint-400\n",
      "Configuration saved in ./output/checkpoint-400/config.json\n",
      "Model weights saved in ./output/checkpoint-400/pytorch_model.bin\n",
      "Deleting older checkpoint [output/checkpoint-200] due to args.save_total_limit\n",
      "***** Running Evaluation *****\n",
      "  Num examples = 4200\n",
      "  Batch size = 8\n",
      "Saving model checkpoint to ./output/checkpoint-500\n",
      "Configuration saved in ./output/checkpoint-500/config.json\n",
      "Model weights saved in ./output/checkpoint-500/pytorch_model.bin\n",
      "Deleting older checkpoint [output/checkpoint-300] due to args.save_total_limit\n",
      "***** Running Evaluation *****\n",
      "  Num examples = 4200\n",
      "  Batch size = 8\n",
      "Saving model checkpoint to ./output/checkpoint-600\n",
      "Configuration saved in ./output/checkpoint-600/config.json\n",
      "Model weights saved in ./output/checkpoint-600/pytorch_model.bin\n",
      "Deleting older checkpoint [output/checkpoint-400] due to args.save_total_limit\n",
      "***** Running Evaluation *****\n",
      "  Num examples = 4200\n",
      "  Batch size = 8\n",
      "Saving model checkpoint to ./output/checkpoint-700\n",
      "Configuration saved in ./output/checkpoint-700/config.json\n",
      "Model weights saved in ./output/checkpoint-700/pytorch_model.bin\n",
      "Deleting older checkpoint [output/checkpoint-500] due to args.save_total_limit\n",
      "***** Running Evaluation *****\n",
      "  Num examples = 4200\n",
      "  Batch size = 8\n",
      "Saving model checkpoint to ./output/checkpoint-800\n",
      "Configuration saved in ./output/checkpoint-800/config.json\n",
      "Model weights saved in ./output/checkpoint-800/pytorch_model.bin\n",
      "Deleting older checkpoint [output/checkpoint-600] due to args.save_total_limit\n",
      "***** Running Evaluation *****\n",
      "  Num examples = 4200\n",
      "  Batch size = 8\n",
      "Saving model checkpoint to ./output/checkpoint-900\n",
      "Configuration saved in ./output/checkpoint-900/config.json\n",
      "Model weights saved in ./output/checkpoint-900/pytorch_model.bin\n",
      "Deleting older checkpoint [output/checkpoint-700] due to args.save_total_limit\n",
      "***** Running Evaluation *****\n",
      "  Num examples = 4200\n",
      "  Batch size = 8\n",
      "Saving model checkpoint to ./output/checkpoint-1000\n",
      "Configuration saved in ./output/checkpoint-1000/config.json\n",
      "Model weights saved in ./output/checkpoint-1000/pytorch_model.bin\n",
      "Deleting older checkpoint [output/checkpoint-800] due to args.save_total_limit\n",
      "***** Running Evaluation *****\n",
      "  Num examples = 4200\n",
      "  Batch size = 8\n",
      "Saving model checkpoint to ./output/checkpoint-1100\n",
      "Configuration saved in ./output/checkpoint-1100/config.json\n",
      "Model weights saved in ./output/checkpoint-1100/pytorch_model.bin\n",
      "Deleting older checkpoint [output/checkpoint-900] due to args.save_total_limit\n",
      "***** Running Evaluation *****\n",
      "  Num examples = 4200\n",
      "  Batch size = 8\n",
      "Saving model checkpoint to ./output/checkpoint-1200\n",
      "Configuration saved in ./output/checkpoint-1200/config.json\n",
      "Model weights saved in ./output/checkpoint-1200/pytorch_model.bin\n",
      "Deleting older checkpoint [output/checkpoint-1000] due to args.save_total_limit\n",
      "***** Running Evaluation *****\n",
      "  Num examples = 4200\n",
      "  Batch size = 8\n",
      "Saving model checkpoint to ./output/checkpoint-1300\n",
      "Configuration saved in ./output/checkpoint-1300/config.json\n",
      "Model weights saved in ./output/checkpoint-1300/pytorch_model.bin\n",
      "Deleting older checkpoint [output/checkpoint-1100] due to args.save_total_limit\n",
      "***** Running Evaluation *****\n",
      "  Num examples = 4200\n",
      "  Batch size = 8\n",
      "Saving model checkpoint to ./output/checkpoint-1400\n",
      "Configuration saved in ./output/checkpoint-1400/config.json\n",
      "Model weights saved in ./output/checkpoint-1400/pytorch_model.bin\n",
      "Deleting older checkpoint [output/checkpoint-1200] due to args.save_total_limit\n",
      "***** Running Evaluation *****\n",
      "  Num examples = 4200\n",
      "  Batch size = 8\n",
      "Saving model checkpoint to ./output/checkpoint-1500\n",
      "Configuration saved in ./output/checkpoint-1500/config.json\n",
      "Model weights saved in ./output/checkpoint-1500/pytorch_model.bin\n",
      "Deleting older checkpoint [output/checkpoint-1300] due to args.save_total_limit\n",
      "\n",
      "\n",
      "Training completed. Do not forget to share your model on huggingface.co/models =)\n",
      "\n",
      "\n",
      "Loading best model from ./output/checkpoint-1500 (score: 0.08650664985179901).\n",
      "Saving model checkpoint to ./output/finalmodel\n",
      "Configuration saved in ./output/finalmodel/config.json\n",
      "Model weights saved in ./output/finalmodel/pytorch_model.bin\n"
     ]
    },
    {
     "name": "stdout",
     "output_type": "stream",
     "text": [
      "***** train metrics *****\n",
      "  epoch                    =        3.0\n",
      "  total_flos               = 31170507GF\n",
      "  train_loss               =     0.5162\n",
      "  train_runtime            = 0:11:48.21\n",
      "  train_samples_per_second =     142.33\n",
      "  train_steps_per_second   =      2.224\n"
     ]
    }
   ],
   "source": [
    "train_results = trainer.train()\n",
    "trainer.save_model(f'{output_dir}/finalmodel')\n",
    "trainer.log_metrics(\"train\", train_results.metrics)\n",
    "trainer.save_metrics(\"train\", train_results.metrics)\n",
    "trainer.save_state()"
   ]
  },
  {
   "cell_type": "code",
   "execution_count": 15,
   "id": "0d3c710d",
   "metadata": {
    "execution": {
     "iopub.execute_input": "2022-08-14T13:29:53.797143Z",
     "iopub.status.busy": "2022-08-14T13:29:53.796279Z",
     "iopub.status.idle": "2022-08-14T13:30:12.361848Z",
     "shell.execute_reply": "2022-08-14T13:30:12.360644Z"
    },
    "papermill": {
     "duration": 18.580359,
     "end_time": "2022-08-14T13:30:12.364669",
     "exception": false,
     "start_time": "2022-08-14T13:29:53.784310",
     "status": "completed"
    },
    "tags": []
   },
   "outputs": [
    {
     "name": "stderr",
     "output_type": "stream",
     "text": [
      "***** Running Evaluation *****\n",
      "  Num examples = 4200\n",
      "  Batch size = 8\n"
     ]
    },
    {
     "data": {
      "text/html": [
       "\n",
       "    <div>\n",
       "      \n",
       "      <progress value='525' max='525' style='width:300px; height:20px; vertical-align: middle;'></progress>\n",
       "      [525/525 00:18]\n",
       "    </div>\n",
       "    "
      ],
      "text/plain": [
       "<IPython.core.display.HTML object>"
      ]
     },
     "metadata": {},
     "output_type": "display_data"
    },
    {
     "name": "stdout",
     "output_type": "stream",
     "text": [
      "***** eval metrics *****\n",
      "  epoch                   =        3.0\n",
      "  eval_accuracy           =      0.975\n",
      "  eval_loss               =     0.0865\n",
      "  eval_runtime            = 0:00:18.55\n",
      "  eval_samples_per_second =    226.369\n",
      "  eval_steps_per_second   =     28.296\n"
     ]
    }
   ],
   "source": [
    "metrics = trainer.evaluate(pt_test)\n",
    "trainer.log_metrics(\"eval\", metrics)\n",
    "trainer.save_metrics(\"eval\", metrics)"
   ]
  },
  {
   "cell_type": "code",
   "execution_count": 16,
   "id": "32969061",
   "metadata": {
    "execution": {
     "iopub.execute_input": "2022-08-14T13:30:12.388264Z",
     "iopub.status.busy": "2022-08-14T13:30:12.387973Z",
     "iopub.status.idle": "2022-08-14T13:30:12.791020Z",
     "shell.execute_reply": "2022-08-14T13:30:12.789367Z"
    },
    "papermill": {
     "duration": 0.417034,
     "end_time": "2022-08-14T13:30:12.793150",
     "exception": false,
     "start_time": "2022-08-14T13:30:12.376116",
     "status": "completed"
    },
    "tags": []
   },
   "outputs": [
    {
     "name": "stderr",
     "output_type": "stream",
     "text": [
      "loading configuration file ./output/finalmodel/config.json\n",
      "Model config ResNetConfig {\n",
      "  \"_name_or_path\": \"microsoft/resnet-50\",\n",
      "  \"architectures\": [\n",
      "    \"ResNetForImageClassification\"\n",
      "  ],\n",
      "  \"depths\": [\n",
      "    3,\n",
      "    4,\n",
      "    6,\n",
      "    3\n",
      "  ],\n",
      "  \"downsample_in_first_stage\": false,\n",
      "  \"embedding_size\": 64,\n",
      "  \"hidden_act\": \"relu\",\n",
      "  \"hidden_sizes\": [\n",
      "    256,\n",
      "    512,\n",
      "    1024,\n",
      "    2048\n",
      "  ],\n",
      "  \"id2label\": {\n",
      "    \"0\": \"LABEL_0\",\n",
      "    \"1\": \"LABEL_1\",\n",
      "    \"2\": \"LABEL_2\",\n",
      "    \"3\": \"LABEL_3\",\n",
      "    \"4\": \"LABEL_4\",\n",
      "    \"5\": \"LABEL_5\",\n",
      "    \"6\": \"LABEL_6\",\n",
      "    \"7\": \"LABEL_7\",\n",
      "    \"8\": \"LABEL_8\",\n",
      "    \"9\": \"LABEL_9\"\n",
      "  },\n",
      "  \"label2id\": {\n",
      "    \"LABEL_0\": 0,\n",
      "    \"LABEL_1\": 1,\n",
      "    \"LABEL_2\": 2,\n",
      "    \"LABEL_3\": 3,\n",
      "    \"LABEL_4\": 4,\n",
      "    \"LABEL_5\": 5,\n",
      "    \"LABEL_6\": 6,\n",
      "    \"LABEL_7\": 7,\n",
      "    \"LABEL_8\": 8,\n",
      "    \"LABEL_9\": 9\n",
      "  },\n",
      "  \"layer_type\": \"bottleneck\",\n",
      "  \"model_type\": \"resnet\",\n",
      "  \"num_channels\": 3,\n",
      "  \"problem_type\": \"single_label_classification\",\n",
      "  \"torch_dtype\": \"float32\",\n",
      "  \"transformers_version\": \"4.20.1\"\n",
      "}\n",
      "\n",
      "loading weights file ./output/finalmodel/pytorch_model.bin\n",
      "All model checkpoint weights were used when initializing ResNetForImageClassification.\n",
      "\n",
      "All the weights of ResNetForImageClassification were initialized from the model checkpoint at ./output/finalmodel/.\n",
      "If your task is similar to the task the model of the checkpoint was trained on, you can already use ResNetForImageClassification for predictions without further training.\n"
     ]
    }
   ],
   "source": [
    "model_id = './output/finalmodel/'\n",
    "model = ResNetForImageClassification.from_pretrained(model_id)"
   ]
  },
  {
   "cell_type": "code",
   "execution_count": 17,
   "id": "b1ba997e",
   "metadata": {
    "execution": {
     "iopub.execute_input": "2022-08-14T13:30:12.816662Z",
     "iopub.status.busy": "2022-08-14T13:30:12.816370Z",
     "iopub.status.idle": "2022-08-14T13:30:13.329732Z",
     "shell.execute_reply": "2022-08-14T13:30:13.328353Z"
    },
    "papermill": {
     "duration": 0.527542,
     "end_time": "2022-08-14T13:30:13.332037",
     "exception": false,
     "start_time": "2022-08-14T13:30:12.804495",
     "status": "completed"
    },
    "tags": []
   },
   "outputs": [
    {
     "data": {
      "image/png": "[encoded data removed]",
      "text/plain": [
       "<Figure size 432x288 with 1 Axes>"
      ]
     },
     "metadata": {
      "needs_background": "light"
     },
     "output_type": "display_data"
    },
    {
     "name": "stdout",
     "output_type": "stream",
     "text": [
      "7\n"
     ]
    }
   ],
   "source": [
    "idx=random.randint(0, len(val_X))\n",
    "display_img(val_X[idx])\n",
    "\n",
    "inputs = feature_extractor(val_X[idx], return_tensors=\"pt\")\n",
    "\n",
    "with torch.no_grad():\n",
    "    logits = model(**inputs).logits\n",
    "\n",
    "# model predicts one of the 1000 ImageNet classes\n",
    "predicted_label = logits.argmax(-1).item()\n",
    "print(predicted_label)"
   ]
  },
  {
   "cell_type": "code",
   "execution_count": null,
   "id": "1df18c0a",
   "metadata": {
    "papermill": {
     "duration": 0.012242,
     "end_time": "2022-08-14T13:30:13.355751",
     "exception": false,
     "start_time": "2022-08-14T13:30:13.343509",
     "status": "completed"
    },
    "tags": []
   },
   "outputs": [],
   "source": []
  }
 ],
 "metadata": {
  "kernelspec": {
   "display_name": "Python 3",
   "language": "python",
   "name": "python3"
  },
  "language_info": {
   "codemirror_mode": {
    "name": "ipython",
    "version": 3
   },
   "file_extension": ".py",
   "mimetype": "text/x-python",
   "name": "python",
   "nbconvert_exporter": "python",
   "pygments_lexer": "ipython3",
   "version": "3.7.12"
  },
  "papermill": {
   "default_parameters": {},
   "duration": 770.752758,
   "end_time": "2022-08-14T13:30:16.832710",
   "environment_variables": {},
   "exception": null,
   "input_path": "__notebook__.ipynb",
   "output_path": "__notebook__.ipynb",
   "parameters": {},
   "start_time": "2022-08-14T13:17:26.079952",
   "version": "2.3.4"
  },
  "widgets": {
   "application/vnd.jupyter.widget-state+json": {
    "state": {
     "01ae8540de7e4131a1e3b14c1262d6ec": {
      "model_module": "@jupyter-widgets/controls",
      "model_module_version": "1.5.0",
      "model_name": "ProgressStyleModel",
      "state": {
       "_model_module": "@jupyter-widgets/controls",
       "_model_module_version": "1.5.0",
       "_model_name": "ProgressStyleModel",
       "_view_count": null,
       "_view_module": "@jupyter-widgets/base",
       "_view_module_version": "1.2.0",
       "_view_name": "StyleView",
       "bar_color": null,
       "description_width": ""
      }
     },
     "02d70136aefe4e95b26420b0f125d92f": {
      "model_module": "@jupyter-widgets/base",
      "model_module_version": "1.2.0",
      "model_name": "LayoutModel",
      "state": {
       "_model_module": "@jupyter-widgets/base",
       "_model_module_version": "1.2.0",
       "_model_name": "LayoutModel",
       "_view_count": null,
       "_view_module": "@jupyter-widgets/base",
       "_view_module_version": "1.2.0",
       "_view_name": "LayoutView",
       "align_content": null,
       "align_items": null,
       "align_self": null,
       "border": null,
       "bottom": null,
       "display": null,
       "flex": null,
       "flex_flow": null,
       "grid_area": null,
       "grid_auto_columns": null,
       "grid_auto_flow": null,
       "grid_auto_rows": null,
       "grid_column": null,
       "grid_gap": null,
       "grid_row": null,
       "grid_template_areas": null,
       "grid_template_columns": null,
       "grid_template_rows": null,
       "height": null,
       "justify_content": null,
       "justify_items": null,
       "left": null,
       "margin": null,
       "max_height": null,
       "max_width": null,
       "min_height": null,
       "min_width": null,
       "object_fit": null,
       "object_position": null,
       "order": null,
       "overflow": null,
       "overflow_x": null,
       "overflow_y": null,
       "padding": null,
       "right": null,
       "top": null,
       "visibility": null,
       "width": null
      }
     },
     "037482c6d3e447fb97c9f1b87597d6c1": {
      "model_module": "@jupyter-widgets/controls",
      "model_module_version": "1.5.0",
      "model_name": "ProgressStyleModel",
      "state": {
       "_model_module": "@jupyter-widgets/controls",
       "_model_module_version": "1.5.0",
       "_model_name": "ProgressStyleModel",
       "_view_count": null,
       "_view_module": "@jupyter-widgets/base",
       "_view_module_version": "1.2.0",
       "_view_name": "StyleView",
       "bar_color": null,
       "description_width": ""
      }
     },
     "11a6d02816f44bb1a761ff5ca305df73": {
      "model_module": "@jupyter-widgets/controls",
      "model_module_version": "1.5.0",
      "model_name": "HTMLModel",
      "state": {
       "_dom_classes": [],
       "_model_module": "@jupyter-widgets/controls",
       "_model_module_version": "1.5.0",
       "_model_name": "HTMLModel",
       "_view_count": null,
       "_view_module": "@jupyter-widgets/controls",
       "_view_module_version": "1.5.0",
       "_view_name": "HTMLView",
       "description": "",
       "description_tooltip": null,
       "layout": "IPY_MODEL_561f4462804e42c6bfeab8438b8628a2",
       "placeholder": "​",
       "style": "IPY_MODEL_6e273b5e124343088e69e9972bf5c573",
       "value": "Downloading builder script: "
      }
     },
     "1b6a4c6b23fc456e9b9a43df502971bc": {
      "model_module": "@jupyter-widgets/controls",
      "model_module_version": "1.5.0",
      "model_name": "DescriptionStyleModel",
      "state": {
       "_model_module": "@jupyter-widgets/controls",
       "_model_module_version": "1.5.0",
       "_model_name": "DescriptionStyleModel",
       "_view_count": null,
       "_view_module": "@jupyter-widgets/base",
       "_view_module_version": "1.2.0",
       "_view_name": "StyleView",
       "description_width": ""
      }
     },
     "214820b3ea2440e1bcf0e4346c16969a": {
      "model_module": "@jupyter-widgets/controls",
      "model_module_version": "1.5.0",
      "model_name": "HTMLModel",
      "state": {
       "_dom_classes": [],
       "_model_module": "@jupyter-widgets/controls",
       "_model_module_version": "1.5.0",
       "_model_name": "HTMLModel",
       "_view_count": null,
       "_view_module": "@jupyter-widgets/controls",
       "_view_module_version": "1.5.0",
       "_view_name": "HTMLView",
       "description": "",
       "description_tooltip": null,
       "layout": "IPY_MODEL_5c07c85f7d7947db87cb0569ff8a4d75",
       "placeholder": "​",
       "style": "IPY_MODEL_6a7f502dc1324742a932724877978423",
       "value": " 266/266 [00:00&lt;00:00, 9.01kB/s]"
      }
     },
     "2326fd94e8434b7bbebee108635d7eb6": {
      "model_module": "@jupyter-widgets/controls",
      "model_module_version": "1.5.0",
      "model_name": "HTMLModel",
      "state": {
       "_dom_classes": [],
       "_model_module": "@jupyter-widgets/controls",
       "_model_module_version": "1.5.0",
       "_model_name": "HTMLModel",
       "_view_count": null,
       "_view_module": "@jupyter-widgets/controls",
       "_view_module_version": "1.5.0",
       "_view_name": "HTMLView",
       "description": "",
       "description_tooltip": null,
       "layout": "IPY_MODEL_8b7c0570afaf44b99c5bf13f7856f66f",
       "placeholder": "​",
       "style": "IPY_MODEL_34718405c5ef404faf4a5b3fef1344b5",
       "value": "Downloading: 100%"
      }
     },
     "27ec94f73ba541ea8d6274de853c99bf": {
      "model_module": "@jupyter-widgets/controls",
      "model_module_version": "1.5.0",
      "model_name": "DescriptionStyleModel",
      "state": {
       "_model_module": "@jupyter-widgets/controls",
       "_model_module_version": "1.5.0",
       "_model_name": "DescriptionStyleModel",
       "_view_count": null,
       "_view_module": "@jupyter-widgets/base",
       "_view_module_version": "1.2.0",
       "_view_name": "StyleView",
       "description_width": ""
      }
     },
     "2fa023b198334745b5b21b2ab3c5d8fb": {
      "model_module": "@jupyter-widgets/controls",
      "model_module_version": "1.5.0",
      "model_name": "HBoxModel",
      "state": {
       "_dom_classes": [],
       "_model_module": "@jupyter-widgets/controls",
       "_model_module_version": "1.5.0",
       "_model_name": "HBoxModel",
       "_view_count": null,
       "_view_module": "@jupyter-widgets/controls",
       "_view_module_version": "1.5.0",
       "_view_name": "HBoxView",
       "box_style": "",
       "children": [
        "IPY_MODEL_9fba0fe41ea24630b96828d80f85504d",
        "IPY_MODEL_7583b6ff5881487c9c976507a2870a34",
        "IPY_MODEL_e9acb45e9983492bb5fa14df46b0c244"
       ],
       "layout": "IPY_MODEL_f6949d923c4943818c921f004c441220"
      }
     },
     "31f82c72412a42e5b9ed8cb7594dd55c": {
      "model_module": "@jupyter-widgets/base",
      "model_module_version": "1.2.0",
      "model_name": "LayoutModel",
      "state": {
       "_model_module": "@jupyter-widgets/base",
       "_model_module_version": "1.2.0",
       "_model_name": "LayoutModel",
       "_view_count": null,
       "_view_module": "@jupyter-widgets/base",
       "_view_module_version": "1.2.0",
       "_view_name": "LayoutView",
       "align_content": null,
       "align_items": null,
       "align_self": null,
       "border": null,
       "bottom": null,
       "display": null,
       "flex": null,
       "flex_flow": null,
       "grid_area": null,
       "grid_auto_columns": null,
       "grid_auto_flow": null,
       "grid_auto_rows": null,
       "grid_column": null,
       "grid_gap": null,
       "grid_row": null,
       "grid_template_areas": null,
       "grid_template_columns": null,
       "grid_template_rows": null,
       "height": null,
       "justify_content": null,
       "justify_items": null,
       "left": null,
       "margin": null,
       "max_height": null,
       "max_width": null,
       "min_height": null,
       "min_width": null,
       "object_fit": null,
       "object_position": null,
       "order": null,
       "overflow": null,
       "overflow_x": null,
       "overflow_y": null,
       "padding": null,
       "right": null,
       "top": null,
       "visibility": null,
       "width": null
      }
     },
     "34718405c5ef404faf4a5b3fef1344b5": {
      "model_module": "@jupyter-widgets/controls",
      "model_module_version": "1.5.0",
      "model_name": "DescriptionStyleModel",
      "state": {
       "_model_module": "@jupyter-widgets/controls",
       "_model_module_version": "1.5.0",
       "_model_name": "DescriptionStyleModel",
       "_view_count": null,
       "_view_module": "@jupyter-widgets/base",
       "_view_module_version": "1.2.0",
       "_view_name": "StyleView",
       "description_width": ""
      }
     },
     "3fb49016e6e74cf3aed89e4743d17c13": {
      "model_module": "@jupyter-widgets/controls",
      "model_module_version": "1.5.0",
      "model_name": "HTMLModel",
      "state": {
       "_dom_classes": [],
       "_model_module": "@jupyter-widgets/controls",
       "_model_module_version": "1.5.0",
       "_model_name": "HTMLModel",
       "_view_count": null,
       "_view_module": "@jupyter-widgets/controls",
       "_view_module_version": "1.5.0",
       "_view_name": "HTMLView",
       "description": "",
       "description_tooltip": null,
       "layout": "IPY_MODEL_f25455e61fd7412890f2462b54bd658b",
       "placeholder": "​",
       "style": "IPY_MODEL_43d2eadc7e334e1490271408137940b8",
       "value": " 3.19k/? [00:00&lt;00:00, 69.6kB/s]"
      }
     },
     "43d2eadc7e334e1490271408137940b8": {
      "model_module": "@jupyter-widgets/controls",
      "model_module_version": "1.5.0",
      "model_name": "DescriptionStyleModel",
      "state": {
       "_model_module": "@jupyter-widgets/controls",
       "_model_module_version": "1.5.0",
       "_model_name": "DescriptionStyleModel",
       "_view_count": null,
       "_view_module": "@jupyter-widgets/base",
       "_view_module_version": "1.2.0",
       "_view_name": "StyleView",
       "description_width": ""
      }
     },
     "48868cfff7284c6ab3127f702ca8322f": {
      "model_module": "@jupyter-widgets/base",
      "model_module_version": "1.2.0",
      "model_name": "LayoutModel",
      "state": {
       "_model_module": "@jupyter-widgets/base",
       "_model_module_version": "1.2.0",
       "_model_name": "LayoutModel",
       "_view_count": null,
       "_view_module": "@jupyter-widgets/base",
       "_view_module_version": "1.2.0",
       "_view_name": "LayoutView",
       "align_content": null,
       "align_items": null,
       "align_self": null,
       "border": null,
       "bottom": null,
       "display": null,
       "flex": null,
       "flex_flow": null,
       "grid_area": null,
       "grid_auto_columns": null,
       "grid_auto_flow": null,
       "grid_auto_rows": null,
       "grid_column": null,
       "grid_gap": null,
       "grid_row": null,
       "grid_template_areas": null,
       "grid_template_columns": null,
       "grid_template_rows": null,
       "height": null,
       "justify_content": null,
       "justify_items": null,
       "left": null,
       "margin": null,
       "max_height": null,
       "max_width": null,
       "min_height": null,
       "min_width": null,
       "object_fit": null,
       "object_position": null,
       "order": null,
       "overflow": null,
       "overflow_x": null,
       "overflow_y": null,
       "padding": null,
       "right": null,
       "top": null,
       "visibility": null,
       "width": null
      }
     },
     "557c240d9a4c4e4abe15c12247336f9c": {
      "model_module": "@jupyter-widgets/controls",
      "model_module_version": "1.5.0",
      "model_name": "HTMLModel",
      "state": {
       "_dom_classes": [],
       "_model_module": "@jupyter-widgets/controls",
       "_model_module_version": "1.5.0",
       "_model_name": "HTMLModel",
       "_view_count": null,
       "_view_module": "@jupyter-widgets/controls",
       "_view_module_version": "1.5.0",
       "_view_name": "HTMLView",
       "description": "",
       "description_tooltip": null,
       "layout": "IPY_MODEL_563c9b4d615448cfb33711ebfaa73d5c",
       "placeholder": "​",
       "style": "IPY_MODEL_27ec94f73ba541ea8d6274de853c99bf",
       "value": " 67.9k/67.9k [00:00&lt;00:00, 296kB/s]"
      }
     },
     "561f4462804e42c6bfeab8438b8628a2": {
      "model_module": "@jupyter-widgets/base",
      "model_module_version": "1.2.0",
      "model_name": "LayoutModel",
      "state": {
       "_model_module": "@jupyter-widgets/base",
       "_model_module_version": "1.2.0",
       "_model_name": "LayoutModel",
       "_view_count": null,
       "_view_module": "@jupyter-widgets/base",
       "_view_module_version": "1.2.0",
       "_view_name": "LayoutView",
       "align_content": null,
       "align_items": null,
       "align_self": null,
       "border": null,
       "bottom": null,
       "display": null,
       "flex": null,
       "flex_flow": null,
       "grid_area": null,
       "grid_auto_columns": null,
       "grid_auto_flow": null,
       "grid_auto_rows": null,
       "grid_column": null,
       "grid_gap": null,
       "grid_row": null,
       "grid_template_areas": null,
       "grid_template_columns": null,
       "grid_template_rows": null,
       "height": null,
       "justify_content": null,
       "justify_items": null,
       "left": null,
       "margin": null,
       "max_height": null,
       "max_width": null,
       "min_height": null,
       "min_width": null,
       "object_fit": null,
       "object_position": null,
       "order": null,
       "overflow": null,
       "overflow_x": null,
       "overflow_y": null,
       "padding": null,
       "right": null,
       "top": null,
       "visibility": null,
       "width": null
      }
     },
     "563c9b4d615448cfb33711ebfaa73d5c": {
      "model_module": "@jupyter-widgets/base",
      "model_module_version": "1.2.0",
      "model_name": "LayoutModel",
      "state": {
       "_model_module": "@jupyter-widgets/base",
       "_model_module_version": "1.2.0",
       "_model_name": "LayoutModel",
       "_view_count": null,
       "_view_module": "@jupyter-widgets/base",
       "_view_module_version": "1.2.0",
       "_view_name": "LayoutView",
       "align_content": null,
       "align_items": null,
       "align_self": null,
       "border": null,
       "bottom": null,
       "display": null,
       "flex": null,
       "flex_flow": null,
       "grid_area": null,
       "grid_auto_columns": null,
       "grid_auto_flow": null,
       "grid_auto_rows": null,
       "grid_column": null,
       "grid_gap": null,
       "grid_row": null,
       "grid_template_areas": null,
       "grid_template_columns": null,
       "grid_template_rows": null,
       "height": null,
       "justify_content": null,
       "justify_items": null,
       "left": null,
       "margin": null,
       "max_height": null,
       "max_width": null,
       "min_height": null,
       "min_width": null,
       "object_fit": null,
       "object_position": null,
       "order": null,
       "overflow": null,
       "overflow_x": null,
       "overflow_y": null,
       "padding": null,
       "right": null,
       "top": null,
       "visibility": null,
       "width": null
      }
     },
     "5c07c85f7d7947db87cb0569ff8a4d75": {
      "model_module": "@jupyter-widgets/base",
      "model_module_version": "1.2.0",
      "model_name": "LayoutModel",
      "state": {
       "_model_module": "@jupyter-widgets/base",
       "_model_module_version": "1.2.0",
       "_model_name": "LayoutModel",
       "_view_count": null,
       "_view_module": "@jupyter-widgets/base",
       "_view_module_version": "1.2.0",
       "_view_name": "LayoutView",
       "align_content": null,
       "align_items": null,
       "align_self": null,
       "border": null,
       "bottom": null,
       "display": null,
       "flex": null,
       "flex_flow": null,
       "grid_area": null,
       "grid_auto_columns": null,
       "grid_auto_flow": null,
       "grid_auto_rows": null,
       "grid_column": null,
       "grid_gap": null,
       "grid_row": null,
       "grid_template_areas": null,
       "grid_template_columns": null,
       "grid_template_rows": null,
       "height": null,
       "justify_content": null,
       "justify_items": null,
       "left": null,
       "margin": null,
       "max_height": null,
       "max_width": null,
       "min_height": null,
       "min_width": null,
       "object_fit": null,
       "object_position": null,
       "order": null,
       "overflow": null,
       "overflow_x": null,
       "overflow_y": null,
       "padding": null,
       "right": null,
       "top": null,
       "visibility": null,
       "width": null
      }
     },
     "5f5ad732492248998f498b0d266147ce": {
      "model_module": "@jupyter-widgets/controls",
      "model_module_version": "1.5.0",
      "model_name": "FloatProgressModel",
      "state": {
       "_dom_classes": [],
       "_model_module": "@jupyter-widgets/controls",
       "_model_module_version": "1.5.0",
       "_model_name": "FloatProgressModel",
       "_view_count": null,
       "_view_module": "@jupyter-widgets/controls",
       "_view_module_version": "1.5.0",
       "_view_name": "ProgressView",
       "bar_style": "success",
       "description": "",
       "description_tooltip": null,
       "layout": "IPY_MODEL_fb0e8ee7569e47e88f2ad487d73a310e",
       "max": 1411.0,
       "min": 0.0,
       "orientation": "horizontal",
       "style": "IPY_MODEL_01ae8540de7e4131a1e3b14c1262d6ec",
       "value": 1411.0
      }
     },
     "6a7f502dc1324742a932724877978423": {
      "model_module": "@jupyter-widgets/controls",
      "model_module_version": "1.5.0",
      "model_name": "DescriptionStyleModel",
      "state": {
       "_model_module": "@jupyter-widgets/controls",
       "_model_module_version": "1.5.0",
       "_model_name": "DescriptionStyleModel",
       "_view_count": null,
       "_view_module": "@jupyter-widgets/base",
       "_view_module_version": "1.2.0",
       "_view_name": "StyleView",
       "description_width": ""
      }
     },
     "6e273b5e124343088e69e9972bf5c573": {
      "model_module": "@jupyter-widgets/controls",
      "model_module_version": "1.5.0",
      "model_name": "DescriptionStyleModel",
      "state": {
       "_model_module": "@jupyter-widgets/controls",
       "_model_module_version": "1.5.0",
       "_model_name": "DescriptionStyleModel",
       "_view_count": null,
       "_view_module": "@jupyter-widgets/base",
       "_view_module_version": "1.2.0",
       "_view_name": "StyleView",
       "description_width": ""
      }
     },
     "74f50c82bed743e88836efd50097fe25": {
      "model_module": "@jupyter-widgets/controls",
      "model_module_version": "1.5.0",
      "model_name": "HTMLModel",
      "state": {
       "_dom_classes": [],
       "_model_module": "@jupyter-widgets/controls",
       "_model_module_version": "1.5.0",
       "_model_name": "HTMLModel",
       "_view_count": null,
       "_view_module": "@jupyter-widgets/controls",
       "_view_module_version": "1.5.0",
       "_view_name": "HTMLView",
       "description": "",
       "description_tooltip": null,
       "layout": "IPY_MODEL_a6ed569278dd46bf93e257863542cd65",
       "placeholder": "​",
       "style": "IPY_MODEL_1b6a4c6b23fc456e9b9a43df502971bc",
       "value": "Downloading: 100%"
      }
     },
     "7583b6ff5881487c9c976507a2870a34": {
      "model_module": "@jupyter-widgets/controls",
      "model_module_version": "1.5.0",
      "model_name": "FloatProgressModel",
      "state": {
       "_dom_classes": [],
       "_model_module": "@jupyter-widgets/controls",
       "_model_module_version": "1.5.0",
       "_model_name": "FloatProgressModel",
       "_view_count": null,
       "_view_module": "@jupyter-widgets/controls",
       "_view_module_version": "1.5.0",
       "_view_name": "ProgressView",
       "bar_style": "success",
       "description": "",
       "description_tooltip": null,
       "layout": "IPY_MODEL_f14a1774378c43cdbf54638fad00a66a",
       "max": 102567489.0,
       "min": 0.0,
       "orientation": "horizontal",
       "style": "IPY_MODEL_037482c6d3e447fb97c9f1b87597d6c1",
       "value": 102567489.0
      }
     },
     "88f5b2b0a4bd4440bca52f0c390c6b22": {
      "model_module": "@jupyter-widgets/base",
      "model_module_version": "1.2.0",
      "model_name": "LayoutModel",
      "state": {
       "_model_module": "@jupyter-widgets/base",
       "_model_module_version": "1.2.0",
       "_model_name": "LayoutModel",
       "_view_count": null,
       "_view_module": "@jupyter-widgets/base",
       "_view_module_version": "1.2.0",
       "_view_name": "LayoutView",
       "align_content": null,
       "align_items": null,
       "align_self": null,
       "border": null,
       "bottom": null,
       "display": null,
       "flex": null,
       "flex_flow": null,
       "grid_area": null,
       "grid_auto_columns": null,
       "grid_auto_flow": null,
       "grid_auto_rows": null,
       "grid_column": null,
       "grid_gap": null,
       "grid_row": null,
       "grid_template_areas": null,
       "grid_template_columns": null,
       "grid_template_rows": null,
       "height": null,
       "justify_content": null,
       "justify_items": null,
       "left": null,
       "margin": null,
       "max_height": null,
       "max_width": null,
       "min_height": null,
       "min_width": null,
       "object_fit": null,
       "object_position": null,
       "order": null,
       "overflow": null,
       "overflow_x": null,
       "overflow_y": null,
       "padding": null,
       "right": null,
       "top": null,
       "visibility": null,
       "width": null
      }
     },
     "8b7c0570afaf44b99c5bf13f7856f66f": {
      "model_module": "@jupyter-widgets/base",
      "model_module_version": "1.2.0",
      "model_name": "LayoutModel",
      "state": {
       "_model_module": "@jupyter-widgets/base",
       "_model_module_version": "1.2.0",
       "_model_name": "LayoutModel",
       "_view_count": null,
       "_view_module": "@jupyter-widgets/base",
       "_view_module_version": "1.2.0",
       "_view_name": "LayoutView",
       "align_content": null,
       "align_items": null,
       "align_self": null,
       "border": null,
       "bottom": null,
       "display": null,
       "flex": null,
       "flex_flow": null,
       "grid_area": null,
       "grid_auto_columns": null,
       "grid_auto_flow": null,
       "grid_auto_rows": null,
       "grid_column": null,
       "grid_gap": null,
       "grid_row": null,
       "grid_template_areas": null,
       "grid_template_columns": null,
       "grid_template_rows": null,
       "height": null,
       "justify_content": null,
       "justify_items": null,
       "left": null,
       "margin": null,
       "max_height": null,
       "max_width": null,
       "min_height": null,
       "min_width": null,
       "object_fit": null,
       "object_position": null,
       "order": null,
       "overflow": null,
       "overflow_x": null,
       "overflow_y": null,
       "padding": null,
       "right": null,
       "top": null,
       "visibility": null,
       "width": null
      }
     },
     "90ed22c42eb0457696ac0892ace3de7a": {
      "model_module": "@jupyter-widgets/controls",
      "model_module_version": "1.5.0",
      "model_name": "ProgressStyleModel",
      "state": {
       "_model_module": "@jupyter-widgets/controls",
       "_model_module_version": "1.5.0",
       "_model_name": "ProgressStyleModel",
       "_view_count": null,
       "_view_module": "@jupyter-widgets/base",
       "_view_module_version": "1.2.0",
       "_view_name": "StyleView",
       "bar_color": null,
       "description_width": ""
      }
     },
     "9fba0fe41ea24630b96828d80f85504d": {
      "model_module": "@jupyter-widgets/controls",
      "model_module_version": "1.5.0",
      "model_name": "HTMLModel",
      "state": {
       "_dom_classes": [],
       "_model_module": "@jupyter-widgets/controls",
       "_model_module_version": "1.5.0",
       "_model_name": "HTMLModel",
       "_view_count": null,
       "_view_module": "@jupyter-widgets/controls",
       "_view_module_version": "1.5.0",
       "_view_name": "HTMLView",
       "description": "",
       "description_tooltip": null,
       "layout": "IPY_MODEL_e6509554de8f4f71bafdb22fc8a65714",
       "placeholder": "​",
       "style": "IPY_MODEL_b47d02d951894106a07c1ca3c9bee860",
       "value": "Downloading: 100%"
      }
     },
     "a121a7e5c0de4c009b2cf398de35c63d": {
      "model_module": "@jupyter-widgets/controls",
      "model_module_version": "1.5.0",
      "model_name": "HBoxModel",
      "state": {
       "_dom_classes": [],
       "_model_module": "@jupyter-widgets/controls",
       "_model_module_version": "1.5.0",
       "_model_name": "HBoxModel",
       "_view_count": null,
       "_view_module": "@jupyter-widgets/controls",
       "_view_module_version": "1.5.0",
       "_view_name": "HBoxView",
       "box_style": "",
       "children": [
        "IPY_MODEL_74f50c82bed743e88836efd50097fe25",
        "IPY_MODEL_a27b597d61ab4f6e9ae48f1243b6e94e",
        "IPY_MODEL_214820b3ea2440e1bcf0e4346c16969a"
       ],
       "layout": "IPY_MODEL_48868cfff7284c6ab3127f702ca8322f"
      }
     },
     "a27b597d61ab4f6e9ae48f1243b6e94e": {
      "model_module": "@jupyter-widgets/controls",
      "model_module_version": "1.5.0",
      "model_name": "FloatProgressModel",
      "state": {
       "_dom_classes": [],
       "_model_module": "@jupyter-widgets/controls",
       "_model_module_version": "1.5.0",
       "_model_name": "FloatProgressModel",
       "_view_count": null,
       "_view_module": "@jupyter-widgets/controls",
       "_view_module_version": "1.5.0",
       "_view_name": "ProgressView",
       "bar_style": "success",
       "description": "",
       "description_tooltip": null,
       "layout": "IPY_MODEL_02d70136aefe4e95b26420b0f125d92f",
       "max": 266.0,
       "min": 0.0,
       "orientation": "horizontal",
       "style": "IPY_MODEL_b5ea5c535a054e32b99edd9f0bce47bd",
       "value": 266.0
      }
     },
     "a6ed569278dd46bf93e257863542cd65": {
      "model_module": "@jupyter-widgets/base",
      "model_module_version": "1.2.0",
      "model_name": "LayoutModel",
      "state": {
       "_model_module": "@jupyter-widgets/base",
       "_model_module_version": "1.2.0",
       "_model_name": "LayoutModel",
       "_view_count": null,
       "_view_module": "@jupyter-widgets/base",
       "_view_module_version": "1.2.0",
       "_view_name": "LayoutView",
       "align_content": null,
       "align_items": null,
       "align_self": null,
       "border": null,
       "bottom": null,
       "display": null,
       "flex": null,
       "flex_flow": null,
       "grid_area": null,
       "grid_auto_columns": null,
       "grid_auto_flow": null,
       "grid_auto_rows": null,
       "grid_column": null,
       "grid_gap": null,
       "grid_row": null,
       "grid_template_areas": null,
       "grid_template_columns": null,
       "grid_template_rows": null,
       "height": null,
       "justify_content": null,
       "justify_items": null,
       "left": null,
       "margin": null,
       "max_height": null,
       "max_width": null,
       "min_height": null,
       "min_width": null,
       "object_fit": null,
       "object_position": null,
       "order": null,
       "overflow": null,
       "overflow_x": null,
       "overflow_y": null,
       "padding": null,
       "right": null,
       "top": null,
       "visibility": null,
       "width": null
      }
     },
     "b47d02d951894106a07c1ca3c9bee860": {
      "model_module": "@jupyter-widgets/controls",
      "model_module_version": "1.5.0",
      "model_name": "DescriptionStyleModel",
      "state": {
       "_model_module": "@jupyter-widgets/controls",
       "_model_module_version": "1.5.0",
       "_model_name": "DescriptionStyleModel",
       "_view_count": null,
       "_view_module": "@jupyter-widgets/base",
       "_view_module_version": "1.2.0",
       "_view_name": "StyleView",
       "description_width": ""
      }
     },
     "b5ea5c535a054e32b99edd9f0bce47bd": {
      "model_module": "@jupyter-widgets/controls",
      "model_module_version": "1.5.0",
      "model_name": "ProgressStyleModel",
      "state": {
       "_model_module": "@jupyter-widgets/controls",
       "_model_module_version": "1.5.0",
       "_model_name": "ProgressStyleModel",
       "_view_count": null,
       "_view_module": "@jupyter-widgets/base",
       "_view_module_version": "1.2.0",
       "_view_name": "StyleView",
       "bar_color": null,
       "description_width": ""
      }
     },
     "c0863254ce814bf39e0d1c74e51de4de": {
      "model_module": "@jupyter-widgets/controls",
      "model_module_version": "1.5.0",
      "model_name": "DescriptionStyleModel",
      "state": {
       "_model_module": "@jupyter-widgets/controls",
       "_model_module_version": "1.5.0",
       "_model_name": "DescriptionStyleModel",
       "_view_count": null,
       "_view_module": "@jupyter-widgets/base",
       "_view_module_version": "1.2.0",
       "_view_name": "StyleView",
       "description_width": ""
      }
     },
     "cb15e8baf03b499c9cc1683850723446": {
      "model_module": "@jupyter-widgets/controls",
      "model_module_version": "1.5.0",
      "model_name": "FloatProgressModel",
      "state": {
       "_dom_classes": [],
       "_model_module": "@jupyter-widgets/controls",
       "_model_module_version": "1.5.0",
       "_model_name": "FloatProgressModel",
       "_view_count": null,
       "_view_module": "@jupyter-widgets/controls",
       "_view_module_version": "1.5.0",
       "_view_name": "ProgressView",
       "bar_style": "success",
       "description": "",
       "description_tooltip": null,
       "layout": "IPY_MODEL_dfd36e5cd41c429086e39b74f46e3ec9",
       "max": 69556.0,
       "min": 0.0,
       "orientation": "horizontal",
       "style": "IPY_MODEL_90ed22c42eb0457696ac0892ace3de7a",
       "value": 69556.0
      }
     },
     "cf0f0b39873e4447af6c41e537bd396b": {
      "model_module": "@jupyter-widgets/base",
      "model_module_version": "1.2.0",
      "model_name": "LayoutModel",
      "state": {
       "_model_module": "@jupyter-widgets/base",
       "_model_module_version": "1.2.0",
       "_model_name": "LayoutModel",
       "_view_count": null,
       "_view_module": "@jupyter-widgets/base",
       "_view_module_version": "1.2.0",
       "_view_name": "LayoutView",
       "align_content": null,
       "align_items": null,
       "align_self": null,
       "border": null,
       "bottom": null,
       "display": null,
       "flex": null,
       "flex_flow": null,
       "grid_area": null,
       "grid_auto_columns": null,
       "grid_auto_flow": null,
       "grid_auto_rows": null,
       "grid_column": null,
       "grid_gap": null,
       "grid_row": null,
       "grid_template_areas": null,
       "grid_template_columns": null,
       "grid_template_rows": null,
       "height": null,
       "justify_content": null,
       "justify_items": null,
       "left": null,
       "margin": null,
       "max_height": null,
       "max_width": null,
       "min_height": null,
       "min_width": null,
       "object_fit": null,
       "object_position": null,
       "order": null,
       "overflow": null,
       "overflow_x": null,
       "overflow_y": null,
       "padding": null,
       "right": null,
       "top": null,
       "visibility": null,
       "width": null
      }
     },
     "dee67418582045debe8e430fdb97fc6f": {
      "model_module": "@jupyter-widgets/controls",
      "model_module_version": "1.5.0",
      "model_name": "HBoxModel",
      "state": {
       "_dom_classes": [],
       "_model_module": "@jupyter-widgets/controls",
       "_model_module_version": "1.5.0",
       "_model_name": "HBoxModel",
       "_view_count": null,
       "_view_module": "@jupyter-widgets/controls",
       "_view_module_version": "1.5.0",
       "_view_name": "HBoxView",
       "box_style": "",
       "children": [
        "IPY_MODEL_11a6d02816f44bb1a761ff5ca305df73",
        "IPY_MODEL_5f5ad732492248998f498b0d266147ce",
        "IPY_MODEL_3fb49016e6e74cf3aed89e4743d17c13"
       ],
       "layout": "IPY_MODEL_31f82c72412a42e5b9ed8cb7594dd55c"
      }
     },
     "dfd36e5cd41c429086e39b74f46e3ec9": {
      "model_module": "@jupyter-widgets/base",
      "model_module_version": "1.2.0",
      "model_name": "LayoutModel",
      "state": {
       "_model_module": "@jupyter-widgets/base",
       "_model_module_version": "1.2.0",
       "_model_name": "LayoutModel",
       "_view_count": null,
       "_view_module": "@jupyter-widgets/base",
       "_view_module_version": "1.2.0",
       "_view_name": "LayoutView",
       "align_content": null,
       "align_items": null,
       "align_self": null,
       "border": null,
       "bottom": null,
       "display": null,
       "flex": null,
       "flex_flow": null,
       "grid_area": null,
       "grid_auto_columns": null,
       "grid_auto_flow": null,
       "grid_auto_rows": null,
       "grid_column": null,
       "grid_gap": null,
       "grid_row": null,
       "grid_template_areas": null,
       "grid_template_columns": null,
       "grid_template_rows": null,
       "height": null,
       "justify_content": null,
       "justify_items": null,
       "left": null,
       "margin": null,
       "max_height": null,
       "max_width": null,
       "min_height": null,
       "min_width": null,
       "object_fit": null,
       "object_position": null,
       "order": null,
       "overflow": null,
       "overflow_x": null,
       "overflow_y": null,
       "padding": null,
       "right": null,
       "top": null,
       "visibility": null,
       "width": null
      }
     },
     "e6509554de8f4f71bafdb22fc8a65714": {
      "model_module": "@jupyter-widgets/base",
      "model_module_version": "1.2.0",
      "model_name": "LayoutModel",
      "state": {
       "_model_module": "@jupyter-widgets/base",
       "_model_module_version": "1.2.0",
       "_model_name": "LayoutModel",
       "_view_count": null,
       "_view_module": "@jupyter-widgets/base",
       "_view_module_version": "1.2.0",
       "_view_name": "LayoutView",
       "align_content": null,
       "align_items": null,
       "align_self": null,
       "border": null,
       "bottom": null,
       "display": null,
       "flex": null,
       "flex_flow": null,
       "grid_area": null,
       "grid_auto_columns": null,
       "grid_auto_flow": null,
       "grid_auto_rows": null,
       "grid_column": null,
       "grid_gap": null,
       "grid_row": null,
       "grid_template_areas": null,
       "grid_template_columns": null,
       "grid_template_rows": null,
       "height": null,
       "justify_content": null,
       "justify_items": null,
       "left": null,
       "margin": null,
       "max_height": null,
       "max_width": null,
       "min_height": null,
       "min_width": null,
       "object_fit": null,
       "object_position": null,
       "order": null,
       "overflow": null,
       "overflow_x": null,
       "overflow_y": null,
       "padding": null,
       "right": null,
       "top": null,
       "visibility": null,
       "width": null
      }
     },
     "e8c7565ada0048fe90a80ffcfaae4ac0": {
      "model_module": "@jupyter-widgets/controls",
      "model_module_version": "1.5.0",
      "model_name": "HBoxModel",
      "state": {
       "_dom_classes": [],
       "_model_module": "@jupyter-widgets/controls",
       "_model_module_version": "1.5.0",
       "_model_name": "HBoxModel",
       "_view_count": null,
       "_view_module": "@jupyter-widgets/controls",
       "_view_module_version": "1.5.0",
       "_view_name": "HBoxView",
       "box_style": "",
       "children": [
        "IPY_MODEL_2326fd94e8434b7bbebee108635d7eb6",
        "IPY_MODEL_cb15e8baf03b499c9cc1683850723446",
        "IPY_MODEL_557c240d9a4c4e4abe15c12247336f9c"
       ],
       "layout": "IPY_MODEL_cf0f0b39873e4447af6c41e537bd396b"
      }
     },
     "e9acb45e9983492bb5fa14df46b0c244": {
      "model_module": "@jupyter-widgets/controls",
      "model_module_version": "1.5.0",
      "model_name": "HTMLModel",
      "state": {
       "_dom_classes": [],
       "_model_module": "@jupyter-widgets/controls",
       "_model_module_version": "1.5.0",
       "_model_name": "HTMLModel",
       "_view_count": null,
       "_view_module": "@jupyter-widgets/controls",
       "_view_module_version": "1.5.0",
       "_view_name": "HTMLView",
       "description": "",
       "description_tooltip": null,
       "layout": "IPY_MODEL_88f5b2b0a4bd4440bca52f0c390c6b22",
       "placeholder": "​",
       "style": "IPY_MODEL_c0863254ce814bf39e0d1c74e51de4de",
       "value": " 97.8M/97.8M [00:04&lt;00:00, 25.2MB/s]"
      }
     },
     "f14a1774378c43cdbf54638fad00a66a": {
      "model_module": "@jupyter-widgets/base",
      "model_module_version": "1.2.0",
      "model_name": "LayoutModel",
      "state": {
       "_model_module": "@jupyter-widgets/base",
       "_model_module_version": "1.2.0",
       "_model_name": "LayoutModel",
       "_view_count": null,
       "_view_module": "@jupyter-widgets/base",
       "_view_module_version": "1.2.0",
       "_view_name": "LayoutView",
       "align_content": null,
       "align_items": null,
       "align_self": null,
       "border": null,
       "bottom": null,
       "display": null,
       "flex": null,
       "flex_flow": null,
       "grid_area": null,
       "grid_auto_columns": null,
       "grid_auto_flow": null,
       "grid_auto_rows": null,
       "grid_column": null,
       "grid_gap": null,
       "grid_row": null,
       "grid_template_areas": null,
       "grid_template_columns": null,
       "grid_template_rows": null,
       "height": null,
       "justify_content": null,
       "justify_items": null,
       "left": null,
       "margin": null,
       "max_height": null,
       "max_width": null,
       "min_height": null,
       "min_width": null,
       "object_fit": null,
       "object_position": null,
       "order": null,
       "overflow": null,
       "overflow_x": null,
       "overflow_y": null,
       "padding": null,
       "right": null,
       "top": null,
       "visibility": null,
       "width": null
      }
     },
     "f25455e61fd7412890f2462b54bd658b": {
      "model_module": "@jupyter-widgets/base",
      "model_module_version": "1.2.0",
      "model_name": "LayoutModel",
      "state": {
       "_model_module": "@jupyter-widgets/base",
       "_model_module_version": "1.2.0",
       "_model_name": "LayoutModel",
       "_view_count": null,
       "_view_module": "@jupyter-widgets/base",
       "_view_module_version": "1.2.0",
       "_view_name": "LayoutView",
       "align_content": null,
       "align_items": null,
       "align_self": null,
       "border": null,
       "bottom": null,
       "display": null,
       "flex": null,
       "flex_flow": null,
       "grid_area": null,
       "grid_auto_columns": null,
       "grid_auto_flow": null,
       "grid_auto_rows": null,
       "grid_column": null,
       "grid_gap": null,
       "grid_row": null,
       "grid_template_areas": null,
       "grid_template_columns": null,
       "grid_template_rows": null,
       "height": null,
       "justify_content": null,
       "justify_items": null,
       "left": null,
       "margin": null,
       "max_height": null,
       "max_width": null,
       "min_height": null,
       "min_width": null,
       "object_fit": null,
       "object_position": null,
       "order": null,
       "overflow": null,
       "overflow_x": null,
       "overflow_y": null,
       "padding": null,
       "right": null,
       "top": null,
       "visibility": null,
       "width": null
      }
     },
     "f6949d923c4943818c921f004c441220": {
      "model_module": "@jupyter-widgets/base",
      "model_module_version": "1.2.0",
      "model_name": "LayoutModel",
      "state": {
       "_model_module": "@jupyter-widgets/base",
       "_model_module_version": "1.2.0",
       "_model_name": "LayoutModel",
       "_view_count": null,
       "_view_module": "@jupyter-widgets/base",
       "_view_module_version": "1.2.0",
       "_view_name": "LayoutView",
       "align_content": null,
       "align_items": null,
       "align_self": null,
       "border": null,
       "bottom": null,
       "display": null,
       "flex": null,
       "flex_flow": null,
       "grid_area": null,
       "grid_auto_columns": null,
       "grid_auto_flow": null,
       "grid_auto_rows": null,
       "grid_column": null,
       "grid_gap": null,
       "grid_row": null,
       "grid_template_areas": null,
       "grid_template_columns": null,
       "grid_template_rows": null,
       "height": null,
       "justify_content": null,
       "justify_items": null,
       "left": null,
       "margin": null,
       "max_height": null,
       "max_width": null,
       "min_height": null,
       "min_width": null,
       "object_fit": null,
       "object_position": null,
       "order": null,
       "overflow": null,
       "overflow_x": null,
       "overflow_y": null,
       "padding": null,
       "right": null,
       "top": null,
       "visibility": null,
       "width": null
      }
     },
     "fb0e8ee7569e47e88f2ad487d73a310e": {
      "model_module": "@jupyter-widgets/base",
      "model_module_version": "1.2.0",
      "model_name": "LayoutModel",
      "state": {
       "_model_module": "@jupyter-widgets/base",
       "_model_module_version": "1.2.0",
       "_model_name": "LayoutModel",
       "_view_count": null,
       "_view_module": "@jupyter-widgets/base",
       "_view_module_version": "1.2.0",
       "_view_name": "LayoutView",
       "align_content": null,
       "align_items": null,
       "align_self": null,
       "border": null,
       "bottom": null,
       "display": null,
       "flex": null,
       "flex_flow": null,
       "grid_area": null,
       "grid_auto_columns": null,
       "grid_auto_flow": null,
       "grid_auto_rows": null,
       "grid_column": null,
       "grid_gap": null,
       "grid_row": null,
       "grid_template_areas": null,
       "grid_template_columns": null,
       "grid_template_rows": null,
       "height": null,
       "justify_content": null,
       "justify_items": null,
       "left": null,
       "margin": null,
       "max_height": null,
       "max_width": null,
       "min_height": null,
       "min_width": null,
       "object_fit": null,
       "object_position": null,
       "order": null,
       "overflow": null,
       "overflow_x": null,
       "overflow_y": null,
       "padding": null,
       "right": null,
       "top": null,
       "visibility": null,
       "width": null
      }
     }
    },
    "version_major": 2,
    "version_minor": 0
   }
  }
 },
 "nbformat": 4,
 "nbformat_minor": 5
}
